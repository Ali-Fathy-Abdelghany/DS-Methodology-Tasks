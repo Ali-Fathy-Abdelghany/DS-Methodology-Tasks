{
 "cells": [
  {
   "cell_type": "markdown",
   "metadata": {},
   "source": [
    "## **Stage 1: Importing Data and Creating the DataFrame**\n",
    "### **Cell 1**  \n",
    "**Description**:  \n",
    "- **`pandas`**: For handling and manipulating tabular data.  \n",
    "- **`datetime`**: For date and time operations required for calculating recency in RFM analysis. \n",
    " \n",
    "\n",
    "```python"
   ]
  },
  {
   "cell_type": "code",
   "execution_count": 97,
   "metadata": {},
   "outputs": [],
   "source": [
    "import pandas as pd\n",
    "from datetime import datetime\n"
   ]
  },
  {
   "cell_type": "markdown",
   "metadata": {},
   "source": [
    "### **Cell 2**  \n",
    "**Description**:\n",
    "\n",
    "- Reads the Excel file `online_retail_II.xlsx` into a Pandas DataFrame using `read_excel`."
   ]
  },
  {
   "cell_type": "markdown",
   "metadata": {},
   "source": [
    "### **DataSet Link**\n",
    "- https://archive.ics.uci.edu/dataset/502/online+retail+ii"
   ]
  },
  {
   "cell_type": "code",
   "execution_count": 98,
   "metadata": {},
   "outputs": [],
   "source": [
    "data=pd.read_excel('online_retail_II.xlsx')\n"
   ]
  },
  {
   "cell_type": "markdown",
   "metadata": {},
   "source": [
    "### **Cell 3**  \n",
    "**Description**:\n",
    "\n",
    "- Converts the loaded data into a DataFrame.\n",
    "- Uses `info()` to inspect column names, data types, and missing values."
   ]
  },
  {
   "cell_type": "code",
   "execution_count": 111,
   "metadata": {},
   "outputs": [
    {
     "name": "stdout",
     "output_type": "stream",
     "text": [
      "<class 'pandas.core.frame.DataFrame'>\n",
      "RangeIndex: 525461 entries, 0 to 525460\n",
      "Data columns (total 8 columns):\n",
      " #   Column       Non-Null Count   Dtype         \n",
      "---  ------       --------------   -----         \n",
      " 0   Invoice      525461 non-null  object        \n",
      " 1   StockCode    525461 non-null  object        \n",
      " 2   Description  522533 non-null  object        \n",
      " 3   Quantity     525461 non-null  int64         \n",
      " 4   InvoiceDate  525461 non-null  datetime64[ns]\n",
      " 5   Price        525461 non-null  float64       \n",
      " 6   Customer ID  417534 non-null  float64       \n",
      " 7   Country      525461 non-null  object        \n",
      "dtypes: datetime64[ns](1), float64(2), int64(1), object(4)\n",
      "memory usage: 32.1+ MB\n"
     ]
    }
   ],
   "source": [
    "df = pd.DataFrame(data)\n",
    "df.info()"
   ]
  },
  {
   "cell_type": "markdown",
   "metadata": {},
   "source": [
    "## **Stage 2: Data cleaning and preparing**\n",
    "### **Cell 4**\n",
    "**Purbose**: Rename columns and handle missing data.    \n",
    "**Description**:\n",
    "- Renames the column `Customer ID` to `CustomerID` for consistency.\n",
    "- Drops rows with missing values in the `CustomerID` column using `dropna()`.\n",
    "- Converts the `CustomerID` column to integers for uniformity.  \n",
    "**Conclusion**:  \n",
    "From the `descripe()` result we see that both `Quantity` and `Price` min value is irrigular."
   ]
  },
  {
   "cell_type": "code",
   "execution_count": 112,
   "metadata": {},
   "outputs": [
    {
     "data": {
      "text/html": [
       "<div>\n",
       "<style scoped>\n",
       "    .dataframe tbody tr th:only-of-type {\n",
       "        vertical-align: middle;\n",
       "    }\n",
       "\n",
       "    .dataframe tbody tr th {\n",
       "        vertical-align: top;\n",
       "    }\n",
       "\n",
       "    .dataframe thead th {\n",
       "        text-align: right;\n",
       "    }\n",
       "</style>\n",
       "<table border=\"1\" class=\"dataframe\">\n",
       "  <thead>\n",
       "    <tr style=\"text-align: right;\">\n",
       "      <th></th>\n",
       "      <th>Quantity</th>\n",
       "      <th>InvoiceDate</th>\n",
       "      <th>Price</th>\n",
       "      <th>CustomerID</th>\n",
       "    </tr>\n",
       "  </thead>\n",
       "  <tbody>\n",
       "    <tr>\n",
       "      <th>count</th>\n",
       "      <td>417534.000000</td>\n",
       "      <td>417534</td>\n",
       "      <td>417534.000000</td>\n",
       "      <td>417534.000000</td>\n",
       "    </tr>\n",
       "    <tr>\n",
       "      <th>mean</th>\n",
       "      <td>12.758815</td>\n",
       "      <td>2010-07-01 01:12:19.787609856</td>\n",
       "      <td>3.887547</td>\n",
       "      <td>15360.645478</td>\n",
       "    </tr>\n",
       "    <tr>\n",
       "      <th>min</th>\n",
       "      <td>-9360.000000</td>\n",
       "      <td>2009-12-01 07:45:00</td>\n",
       "      <td>0.000000</td>\n",
       "      <td>12346.000000</td>\n",
       "    </tr>\n",
       "    <tr>\n",
       "      <th>25%</th>\n",
       "      <td>2.000000</td>\n",
       "      <td>2010-03-26 11:26:00</td>\n",
       "      <td>1.250000</td>\n",
       "      <td>13983.000000</td>\n",
       "    </tr>\n",
       "    <tr>\n",
       "      <th>50%</th>\n",
       "      <td>4.000000</td>\n",
       "      <td>2010-07-08 19:12:00</td>\n",
       "      <td>1.950000</td>\n",
       "      <td>15311.000000</td>\n",
       "    </tr>\n",
       "    <tr>\n",
       "      <th>75%</th>\n",
       "      <td>12.000000</td>\n",
       "      <td>2010-10-14 14:08:00</td>\n",
       "      <td>3.750000</td>\n",
       "      <td>16799.000000</td>\n",
       "    </tr>\n",
       "    <tr>\n",
       "      <th>max</th>\n",
       "      <td>19152.000000</td>\n",
       "      <td>2010-12-09 20:01:00</td>\n",
       "      <td>25111.090000</td>\n",
       "      <td>18287.000000</td>\n",
       "    </tr>\n",
       "    <tr>\n",
       "      <th>std</th>\n",
       "      <td>101.220424</td>\n",
       "      <td>NaN</td>\n",
       "      <td>71.131797</td>\n",
       "      <td>1680.811316</td>\n",
       "    </tr>\n",
       "  </tbody>\n",
       "</table>\n",
       "</div>"
      ],
      "text/plain": [
       "            Quantity                    InvoiceDate          Price  \\\n",
       "count  417534.000000                         417534  417534.000000   \n",
       "mean       12.758815  2010-07-01 01:12:19.787609856       3.887547   \n",
       "min     -9360.000000            2009-12-01 07:45:00       0.000000   \n",
       "25%         2.000000            2010-03-26 11:26:00       1.250000   \n",
       "50%         4.000000            2010-07-08 19:12:00       1.950000   \n",
       "75%        12.000000            2010-10-14 14:08:00       3.750000   \n",
       "max     19152.000000            2010-12-09 20:01:00   25111.090000   \n",
       "std       101.220424                            NaN      71.131797   \n",
       "\n",
       "          CustomerID  \n",
       "count  417534.000000  \n",
       "mean    15360.645478  \n",
       "min     12346.000000  \n",
       "25%     13983.000000  \n",
       "50%     15311.000000  \n",
       "75%     16799.000000  \n",
       "max     18287.000000  \n",
       "std      1680.811316  "
      ]
     },
     "execution_count": 112,
     "metadata": {},
     "output_type": "execute_result"
    }
   ],
   "source": [
    "df.rename(columns={'Customer ID':'CustomerID'},inplace=True)\n",
    "df.dropna(subset=['CustomerID'],inplace= True )\n",
    "df['CustomerID'] = df['CustomerID'].astype(int)\n",
    "df.describe()"
   ]
  },
  {
   "cell_type": "markdown",
   "metadata": {},
   "source": [
    "### **Cell 5**\n",
    "**Description**\n",
    "- filter invalid rows with `quantity` or `price` less than zero"
   ]
  },
  {
   "cell_type": "code",
   "execution_count": 113,
   "metadata": {},
   "outputs": [
    {
     "data": {
      "text/plain": [
       "(407664, 8)"
      ]
     },
     "execution_count": 113,
     "metadata": {},
     "output_type": "execute_result"
    }
   ],
   "source": [
    "df=df[df['Quantity']>0]\n",
    "df=df[df['Price']>0]\n",
    "df.shape"
   ]
  },
  {
   "cell_type": "markdown",
   "metadata": {},
   "source": [
    "### **Cell 6**\n",
    "**Description**\n",
    "- Eliminates duplicate entries in the dataset using `drop_duplicates()`.\n",
    "- Check for unique values using `nunique()` for further analysis."
   ]
  },
  {
   "cell_type": "code",
   "execution_count": 114,
   "metadata": {},
   "outputs": [
    {
     "data": {
      "text/plain": [
       "Invoice        19213\n",
       "StockCode       4017\n",
       "Description     4444\n",
       "Quantity         343\n",
       "InvoiceDate    18008\n",
       "Price            448\n",
       "CustomerID      4312\n",
       "Country           37\n",
       "dtype: int64"
      ]
     },
     "execution_count": 114,
     "metadata": {},
     "output_type": "execute_result"
    }
   ],
   "source": [
    "df.drop_duplicates(inplace=True)\n",
    "df.nunique()"
   ]
  },
  {
   "cell_type": "markdown",
   "metadata": {},
   "source": [
    "## **Stage 3: Preparing and filtereng UK-data**\n",
    "### **Cell 7**  \n",
    "**Description**:  \n",
    "- Extract unique country-customer combinations to determine how many customers are there.\n",
    "- Analyze the top 10 countries by customer count in each country.\n",
    "\n",
    "**Conclusion**:  \n",
    "From the bar chart, it is evident that most customers are from the United Kingdom. Therefore, we will focus our analysis on UK data in the subsequent steps.  "
   ]
  },
  {
   "cell_type": "code",
   "execution_count": 115,
   "metadata": {},
   "outputs": [
    {
     "data": {
      "text/plain": [
       "<Axes: xlabel='Country'>"
      ]
     },
     "execution_count": 115,
     "metadata": {},
     "output_type": "execute_result"
    },
    {
     "data": {
      "image/png": "[encoded data removed]",
      "text/plain": [
       "<Figure size 640x480 with 1 Axes>"
      ]
     },
     "metadata": {},
     "output_type": "display_data"
    }
   ],
   "source": [
    "filtered_data = df[[\"Country\",\"CustomerID\"]].drop_duplicates()\n",
    "filtered_data.Country.value_counts()[:10].plot(kind='bar')"
   ]
  },
  {
   "cell_type": "markdown",
   "metadata": {},
   "source": [
    "### **Cell 8**  \n",
    "**Description**:    \n",
    "- Filter data for the United Kingdom.\n",
    "- Selects relevant columns for RFM analysis.\n",
    "- Adds a new column `TotalPrice`, calculated as `Quantity` × `Price`.\n",
    "\n"
   ]
  },
  {
   "cell_type": "code",
   "execution_count": 116,
   "metadata": {},
   "outputs": [
    {
     "data": {
      "text/plain": [
       "((364233, 6),\n",
       "   Invoice         InvoiceDate  Quantity  Price  CustomerID  TotalPrice\n",
       " 0  489434 2009-12-01 07:45:00        12   6.95       13085        83.4\n",
       " 1  489434 2009-12-01 07:45:00        12   6.75       13085        81.0\n",
       " 2  489434 2009-12-01 07:45:00        12   6.75       13085        81.0\n",
       " 3  489434 2009-12-01 07:45:00        48   2.10       13085       100.8\n",
       " 4  489434 2009-12-01 07:45:00        24   1.25       13085        30.0)"
      ]
     },
     "execution_count": 116,
     "metadata": {},
     "output_type": "execute_result"
    }
   ],
   "source": [
    "uk_data = df[df[\"Country\"] == \"United Kingdom\"]\n",
    "uk_data= uk_data[['Invoice','InvoiceDate','Quantity','Price','CustomerID']]\n",
    "uk_data[\"TotalPrice\"] = uk_data[\"Quantity\"] * uk_data[\"Price\"]\n",
    "uk_data.shape,uk_data.head()"
   ]
  },
  {
   "cell_type": "markdown",
   "metadata": {},
   "source": [
    "## **Stage 4: RFM Analysis**    \n",
    "### **Cell 9**  \n",
    "**Descreption**:\n",
    "- Captures the present time using `datetime.now()` to calculate recency.\n",
    "- Groups the data by CustomerID.\n",
    "- Calculates: \n",
    "    - **Recency**: Days since the latest invoice date.\n",
    "    - **Frequency**: Number of invoices per customer.\n",
    "    - **Monetary**: Total revenue per customer.\n",
    "\n"
   ]
  },
  {
   "cell_type": "code",
   "execution_count": 122,
   "metadata": {},
   "outputs": [
    {
     "data": {
      "text/html": [
       "<div>\n",
       "<style scoped>\n",
       "    .dataframe tbody tr th:only-of-type {\n",
       "        vertical-align: middle;\n",
       "    }\n",
       "\n",
       "    .dataframe tbody tr th {\n",
       "        vertical-align: top;\n",
       "    }\n",
       "\n",
       "    .dataframe thead th {\n",
       "        text-align: right;\n",
       "    }\n",
       "</style>\n",
       "<table border=\"1\" class=\"dataframe\">\n",
       "  <thead>\n",
       "    <tr style=\"text-align: right;\">\n",
       "      <th></th>\n",
       "      <th>Recency</th>\n",
       "      <th>Frequency</th>\n",
       "      <th>Monetary</th>\n",
       "    </tr>\n",
       "    <tr>\n",
       "      <th>CustomerID</th>\n",
       "      <th></th>\n",
       "      <th></th>\n",
       "      <th></th>\n",
       "    </tr>\n",
       "  </thead>\n",
       "  <tbody>\n",
       "    <tr>\n",
       "      <th>12346</th>\n",
       "      <td>5258</td>\n",
       "      <td>33</td>\n",
       "      <td>372.86</td>\n",
       "    </tr>\n",
       "    <tr>\n",
       "      <th>12608</th>\n",
       "      <td>5133</td>\n",
       "      <td>16</td>\n",
       "      <td>415.79</td>\n",
       "    </tr>\n",
       "    <tr>\n",
       "      <th>12745</th>\n",
       "      <td>5215</td>\n",
       "      <td>22</td>\n",
       "      <td>723.85</td>\n",
       "    </tr>\n",
       "    <tr>\n",
       "      <th>12746</th>\n",
       "      <td>5269</td>\n",
       "      <td>17</td>\n",
       "      <td>254.55</td>\n",
       "    </tr>\n",
       "    <tr>\n",
       "      <th>12747</th>\n",
       "      <td>5098</td>\n",
       "      <td>153</td>\n",
       "      <td>5061.03</td>\n",
       "    </tr>\n",
       "  </tbody>\n",
       "</table>\n",
       "</div>"
      ],
      "text/plain": [
       "            Recency  Frequency  Monetary\n",
       "CustomerID                              \n",
       "12346          5258         33    372.86\n",
       "12608          5133         16    415.79\n",
       "12745          5215         22    723.85\n",
       "12746          5269         17    254.55\n",
       "12747          5098        153   5061.03"
      ]
     },
     "execution_count": 122,
     "metadata": {},
     "output_type": "execute_result"
    }
   ],
   "source": [
    "present_time = datetime.now()\n",
    "rfm = uk_data.groupby(\"CustomerID\").agg({\"InvoiceDate\":lambda date :\n",
    "(present_time- date.max()).days,\n",
    "\"Invoice\": lambda num : len(num),\n",
    "\"TotalPrice\" : lambda TotalPrice : TotalPrice.sum()})\n",
    "rfm.columns = [\"Recency\",\"Frequency\",\"Monetary\"]\n",
    "rfm.head()"
   ]
  },
  {
   "cell_type": "markdown",
   "metadata": {},
   "source": [
    "### **Cell 10**      \n",
    "**Descreption**:\n",
    "- Divides the `Recency`, `Frequency`, and `Monetary` metrics into quartiles using `qcut()`.\n",
    "- Creates new columns for quartile ranks"
   ]
  },
  {
   "cell_type": "code",
   "execution_count": 125,
   "metadata": {},
   "outputs": [
    {
     "name": "stdout",
     "output_type": "stream",
     "text": [
      "<class 'pandas.core.frame.DataFrame'>\n",
      "Index: 3969 entries, 12346 to 18287\n",
      "Data columns (total 6 columns):\n",
      " #   Column      Non-Null Count  Dtype   \n",
      "---  ------      --------------  -----   \n",
      " 0   Recency     3969 non-null   int64   \n",
      " 1   Frequency   3969 non-null   int64   \n",
      " 2   Monetary    3969 non-null   float64 \n",
      " 3   r_quartile  3969 non-null   category\n",
      " 4   f_quartile  3969 non-null   category\n",
      " 5   m_quartile  3969 non-null   category\n",
      "dtypes: category(3), float64(1), int64(2)\n",
      "memory usage: 120.8 KB\n"
     ]
    }
   ],
   "source": [
    "rfm['r_quartile'] = pd.qcut(rfm['Recency'], 4, ['1','2','3','4'])\n",
    "rfm['f_quartile'] = pd.qcut(rfm['Frequency'], 4, ['4','3','2','1'])\n",
    "rfm['m_quartile'] = pd.qcut(rfm['Monetary'], 4, ['4','3','2','1'])\n",
    "rfm.info()"
   ]
  },
  {
   "cell_type": "markdown",
   "metadata": {},
   "source": [
    "### **Cell 11**      \n",
    "**Descreption**:\n",
    "- Combines `Recency`, `Frequency`, and `Monetary` quartile values into an `RFM_Score`.\n",
    "- Segments customers into High-, Mid-, and Low-Value categories based on their scores."
   ]
  },
  {
   "cell_type": "code",
   "execution_count": 126,
   "metadata": {},
   "outputs": [
    {
     "data": {
      "text/html": [
       "<div>\n",
       "<style scoped>\n",
       "    .dataframe tbody tr th:only-of-type {\n",
       "        vertical-align: middle;\n",
       "    }\n",
       "\n",
       "    .dataframe tbody tr th {\n",
       "        vertical-align: top;\n",
       "    }\n",
       "\n",
       "    .dataframe thead th {\n",
       "        text-align: right;\n",
       "    }\n",
       "</style>\n",
       "<table border=\"1\" class=\"dataframe\">\n",
       "  <thead>\n",
       "    <tr style=\"text-align: right;\">\n",
       "      <th></th>\n",
       "      <th>Recency</th>\n",
       "      <th>Frequency</th>\n",
       "      <th>Monetary</th>\n",
       "      <th>r_quartile</th>\n",
       "      <th>f_quartile</th>\n",
       "      <th>m_quartile</th>\n",
       "      <th>RFM_Score</th>\n",
       "      <th>Value_Segment</th>\n",
       "    </tr>\n",
       "    <tr>\n",
       "      <th>CustomerID</th>\n",
       "      <th></th>\n",
       "      <th></th>\n",
       "      <th></th>\n",
       "      <th></th>\n",
       "      <th></th>\n",
       "      <th></th>\n",
       "      <th></th>\n",
       "      <th></th>\n",
       "    </tr>\n",
       "  </thead>\n",
       "  <tbody>\n",
       "    <tr>\n",
       "      <th>12346</th>\n",
       "      <td>5258</td>\n",
       "      <td>33</td>\n",
       "      <td>372.86</td>\n",
       "      <td>4</td>\n",
       "      <td>3</td>\n",
       "      <td>3</td>\n",
       "      <td>433</td>\n",
       "      <td>D-Tier</td>\n",
       "    </tr>\n",
       "    <tr>\n",
       "      <th>12608</th>\n",
       "      <td>5133</td>\n",
       "      <td>16</td>\n",
       "      <td>415.79</td>\n",
       "      <td>2</td>\n",
       "      <td>4</td>\n",
       "      <td>3</td>\n",
       "      <td>243</td>\n",
       "      <td>B-Tier</td>\n",
       "    </tr>\n",
       "    <tr>\n",
       "      <th>12745</th>\n",
       "      <td>5215</td>\n",
       "      <td>22</td>\n",
       "      <td>723.85</td>\n",
       "      <td>3</td>\n",
       "      <td>3</td>\n",
       "      <td>2</td>\n",
       "      <td>332</td>\n",
       "      <td>C-Tier</td>\n",
       "    </tr>\n",
       "    <tr>\n",
       "      <th>12746</th>\n",
       "      <td>5269</td>\n",
       "      <td>17</td>\n",
       "      <td>254.55</td>\n",
       "      <td>4</td>\n",
       "      <td>4</td>\n",
       "      <td>4</td>\n",
       "      <td>444</td>\n",
       "      <td>D-Tier</td>\n",
       "    </tr>\n",
       "    <tr>\n",
       "      <th>12747</th>\n",
       "      <td>5098</td>\n",
       "      <td>153</td>\n",
       "      <td>5061.03</td>\n",
       "      <td>1</td>\n",
       "      <td>1</td>\n",
       "      <td>1</td>\n",
       "      <td>111</td>\n",
       "      <td>A-Tier</td>\n",
       "    </tr>\n",
       "  </tbody>\n",
       "</table>\n",
       "</div>"
      ],
      "text/plain": [
       "            Recency  Frequency  Monetary r_quartile f_quartile m_quartile  \\\n",
       "CustomerID                                                                  \n",
       "12346          5258         33    372.86          4          3          3   \n",
       "12608          5133         16    415.79          2          4          3   \n",
       "12745          5215         22    723.85          3          3          2   \n",
       "12746          5269         17    254.55          4          4          4   \n",
       "12747          5098        153   5061.03          1          1          1   \n",
       "\n",
       "            RFM_Score Value_Segment  \n",
       "CustomerID                           \n",
       "12346             433        D-Tier  \n",
       "12608             243        B-Tier  \n",
       "12745             332        C-Tier  \n",
       "12746             444        D-Tier  \n",
       "12747             111        A-Tier  "
      ]
     },
     "execution_count": 126,
     "metadata": {},
     "output_type": "execute_result"
    }
   ],
   "source": [
    "rfm['RFM_Score'] = rfm.r_quartile.astype(str)+rfm.f_quartile.astype(str) +rfm.m_quartile.astype(str)\n",
    "rfm[\"RFM_Score\"] = rfm['RFM_Score'].astype(int)\n",
    "segment_labels = ['A-Tier', 'B-Tier','C-Tier','D-Tier']\n",
    "rfm['Value_Segment'] = pd.qcut(rfm['RFM_Score'], q=4, labels=segment_labels)\n",
    "rfm.head()"
   ]
  },
  {
   "cell_type": "markdown",
   "metadata": {},
   "source": [
    "## **Stage 4: Plotting the segmants**\n",
    "### **Cell 12**\n",
    "**Description**:\n",
    "- Import Visualization libraries"
   ]
  },
  {
   "cell_type": "code",
   "execution_count": null,
   "metadata": {},
   "outputs": [],
   "source": [
    "import matplotlib.pyplot as plt\n",
    "import seaborn as sns"
   ]
  },
  {
   "cell_type": "code",
   "execution_count": 132,
   "metadata": {},
   "outputs": [
    {
     "data": {
      "image/png": "[encoded data removed]",
      "text/plain": [
       "<Figure size 1200x700 with 1 Axes>"
      ]
     },
     "metadata": {},
     "output_type": "display_data"
    }
   ],
   "source": [
    "plt.figure(figsize=(12, 7)) \n",
    "\n",
    "# Plotting the bar chart\n",
    "ax = rfm.Value_Segment.value_counts().sort_values().plot(kind='bar', color=sns.color_palette(\"viridis\", 4))\n",
    "\n",
    "# Customizing the plot title, axis labels, and grid\n",
    "ax.set_title('Value Segment Distribution', fontsize=18, fontweight='bold', color='darkblue') \n",
    "ax.set_xlabel('Value Segment', fontsize=16, fontweight='bold', color='darkgreen') \n",
    "ax.set_ylabel('Count', fontsize=16, fontweight='bold', color='darkgreen')\n",
    "\n",
    "# Adding annotations on top of each bar\n",
    "for p in ax.patches:\n",
    "    ax.annotate(f'{int(p.get_height())}',\n",
    "                (p.get_x() + p.get_width() / 2., p.get_height()),\n",
    "                ha='center', va='bottom', fontsize=14, color='black', fontweight='bold')\n",
    "\n",
    "# Adjusting the x-tick labels\n",
    "ax.set_xticklabels(ax.get_xticklabels(), rotation=45, ha='right', fontsize=12, fontweight='medium', color='darkred')\n",
    "\n",
    "# Adding a border and custom box styling\n",
    "sns.despine()  # Remove top and right borders for a cleaner look\n",
    "plt.tight_layout()  # Adjusts padding and margins for better display\n",
    "\n",
    "plt.show()"
   ]
  },
  {
   "cell_type": "markdown",
   "metadata": {},
   "source": [
    "## **Lambda functions**\n",
    "### used in `cell 9` \n",
    "**Lambda functions in `Pandas` aggregations provide great flexibility by enabling you to**:\n",
    "\n",
    "- Create custom calculations tailored to your needs\n",
    "- Apply complex filtering within aggregations\n",
    "- Execute multi-step transformations\n",
    "- Incorporate conditional logic in your calculations\n",
    "- Combine various operations within a single aggregation method"
   ]
  }
 ],
 "metadata": {
  "kernelspec": {
   "display_name": "base",
   "language": "python",
   "name": "python3"
  },
  "language_info": {
   "codemirror_mode": {
    "name": "ipython",
    "version": 3
   },
   "file_extension": ".py",
   "mimetype": "text/x-python",
   "name": "python",
   "nbconvert_exporter": "python",
   "pygments_lexer": "ipython3",
   "version": "3.11.5"
  }
 },
 "nbformat": 4,
 "nbformat_minor": 2
}
